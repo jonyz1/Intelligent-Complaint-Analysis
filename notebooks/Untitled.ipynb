{
 "cells": [
  {
   "cell_type": "code",
   "execution_count": null,
   "id": "27c6b45e-2691-4433-872d-3934904b5b8e",
   "metadata": {},
   "outputs": [],
   "source": [
    "import pandas as pd\n",
    "import matplotlib.pyplot as plt\n",
    "import seaborn as sns\n",
    "import os\n",
    "import sys\n",
    "\n",
    "# To import functions from src/\n",
    "sys.path.append(os.path.abspath(\"../src\"))\n"
   ]
  },
  {
   "cell_type": "code",
   "execution_count": null,
   "id": "51de5d89-a09c-4d50-8dfd-b0d6ad2a4244",
   "metadata": {},
   "outputs": [],
   "source": [
    "data_path = \"../data/raw/complaints.csv\"  # Adjust if different\n",
    "df = pd.read_csv(data_path,low_memory=False)"
   ]
  },
  {
   "cell_type": "code",
   "execution_count": null,
   "id": "6afe1c26-c1bd-4121-83a0-418f7a2d6c15",
   "metadata": {},
   "outputs": [],
   "source": [
    "print(\"kadojgbka\")"
   ]
  },
  {
   "cell_type": "code",
   "execution_count": null,
   "id": "5a5929e4-428b-4f00-a095-8c1042dcd376",
   "metadata": {},
   "outputs": [],
   "source": [
    "\n"
   ]
  },
  {
   "cell_type": "code",
   "execution_count": null,
   "id": "1a041697-8ab9-49d1-80c2-3486a70e84d4",
   "metadata": {},
   "outputs": [],
   "source": []
  },
  {
   "cell_type": "code",
   "execution_count": null,
   "id": "31879c89-b87c-429d-9144-6d4ed5b43aad",
   "metadata": {},
   "outputs": [],
   "source": [
    "\n",
    "\n"
   ]
  },
  {
   "cell_type": "code",
   "execution_count": null,
   "id": "d7628305-6bc4-4c69-8a1d-6ee14b6ff7dd",
   "metadata": {},
   "outputs": [],
   "source": []
  },
  {
   "cell_type": "code",
   "execution_count": null,
   "id": "4b1ec9bb-4d8e-4271-9d18-83bb80be8ff1",
   "metadata": {},
   "outputs": [],
   "source": []
  },
  {
   "cell_type": "code",
   "execution_count": null,
   "id": "7eff3424-956a-41cc-84a2-ccceb367199f",
   "metadata": {},
   "outputs": [],
   "source": []
  },
  {
   "cell_type": "code",
   "execution_count": null,
   "id": "36c2474d-e1b8-47f2-9810-cf490bcfea11",
   "metadata": {},
   "outputs": [],
   "source": [
    "df_small = df.sample(frac=0.1, random_state=42)"
   ]
  },
  {
   "cell_type": "code",
   "execution_count": null,
   "id": "b98bc877-70e3-4a60-9bf6-aeabbd2d0dd9",
   "metadata": {},
   "outputs": [],
   "source": [
    "df_small.head()"
   ]
  },
  {
   "cell_type": "code",
   "execution_count": 16,
   "id": "ef8bb631-bbe0-494b-96bf-0af8c468d1b0",
   "metadata": {},
   "outputs": [],
   "source": [
    "df_small.nunique()\n"
   ]
  },
  {
   "cell_type": "code",
   "execution_count": null,
   "id": "325c6fbc-69af-4049-95d7-17df24779976",
   "metadata": {},
   "outputs": [],
   "source": [
    "product_counts = df_small['Product'].value_counts()\n",
    "plt.figure(figsize=(10, 6))\n",
    "sns.barplot(x=product_counts.values, y=product_counts.index)\n",
    "plt.title('Distribution of Complaints by Product')\n",
    "plt.xlabel('Number of Complaints')\n",
    "plt.ylabel('Product')\n",
    "plt.tight_layout()\n",
    "plt.close()"
   ]
  }
 ],
 "metadata": {
  "kernelspec": {
   "display_name": "Python 3 (ipykernel)",
   "language": "python",
   "name": "python3"
  },
  "language_info": {
   "codemirror_mode": {
    "name": "ipython",
    "version": 3
   },
   "file_extension": ".py",
   "mimetype": "text/x-python",
   "name": "python",
   "nbconvert_exporter": "python",
   "pygments_lexer": "ipython3",
   "version": "3.11.2"
  }
 },
 "nbformat": 4,
 "nbformat_minor": 5
}
